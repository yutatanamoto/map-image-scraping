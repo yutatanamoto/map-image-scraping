{
 "cells": [
  {
   "cell_type": "markdown",
   "metadata": {},
   "source": [
    "# フロアマップ画像スクレイピングプログラム\n",
    "- 設定ファイルはlib/scraping_configurations.json  \n",
    "- images/にフロアマップ画像を保存  \n",
    "- 今のところ伊勢丹, 三越, 岩田屋, 丸井今井の各店舗のフロアマップ画像を取得できるようにしてあります  \n",
    "- 画像ファイル名は, <テナントID>_<建物(館)名>_<階情報>.<拡張子>  \n",
    "    例. 1_北館_5階.jpeg"
   ]
  },
  {
   "cell_type": "markdown",
   "metadata": {},
   "source": [
    "### Usage \n",
    "- Shift+Enterで選択中のセル内のコードを実行 ([詳しくはこちら](https://jupyter-notebook.readthedocs.io/en/stable/notebook.html))"
   ]
  },
  {
   "cell_type": "code",
   "execution_count": 1,
   "metadata": {},
   "outputs": [],
   "source": [
    "import os\n",
    "import re\n",
    "import json\n",
    "import codecs\n",
    "import urllib3\n",
    "import requests\n",
    "import numpy as np\n",
    "import urllib.parse\n",
    "from PIL import Image\n",
    "from tqdm import tqdm\n",
    "from io import BytesIO\n",
    "from bs4 import BeautifulSoup\n",
    "urllib3.disable_warnings()"
   ]
  },
  {
   "cell_type": "code",
   "execution_count": 2,
   "metadata": {},
   "outputs": [],
   "source": [
    "image_save_dir = './images'\n",
    "if not os.path.exists(image_save_dir):\n",
    "    os.mkdir(image_save_dir)\n",
    "scraping_configurations = json.load(codecs.open('./scraping_configurations.json', 'r','utf-8'))"
   ]
  },
  {
   "cell_type": "code",
   "execution_count": 3,
   "metadata": {},
   "outputs": [
    {
     "name": "stderr",
     "output_type": "stream",
     "text": [
      "100%|██████████| 6/6 [01:20<00:00, 13.49s/it]\n"
     ]
    }
   ],
   "source": [
    "depart_name = \"isetan\" # or mitsukoshi or iwataya or maruiimai\n",
    "scraping_configuration = scraping_configurations[depart_name]\n",
    "floor_selector = scraping_configuration[\"floor_selector\"]\n",
    "tenants = scraping_configuration[\"tenants\"]\n",
    "for tenant in tqdm(tenants):\n",
    "    tenant_id = tenant[\"id\"]\n",
    "    tenant_name = tenant[\"name\"]\n",
    "    buildings = tenant[\"buildings\"]\n",
    "    for building in buildings:\n",
    "        building_suffix = building[\"suffix\"]\n",
    "        building_name = building[\"name\"]\n",
    "        floor_guide_url = scraping_configuration[\"floor_guide_url\"].format(tenant_name=tenant_name, building_suffix=building_suffix)\n",
    "        map_page_selector = scraping_configuration[\"map_page_selector\"]\n",
    "        map_image_selector = scraping_configuration[\"map_image_selector\"]\n",
    "        floor_selector = scraping_configuration[\"floor_selector\"]\n",
    "        floor_guide = requests.get(floor_guide_url, verify=False)\n",
    "        floor_guide_soup = BeautifulSoup(floor_guide.content, 'lxml')\n",
    "        map_page_elements = floor_guide_soup.select(map_page_selector)\n",
    "        for map_page_element in map_page_elements:\n",
    "            map_page_url = urllib.parse.urljoin(floor_guide_url, map_page_element['href'])\n",
    "            map_page = requests.get(map_page_url, verify=False)\n",
    "            map_page_soup = BeautifulSoup(map_page.content, 'lxml')\n",
    "            floor_element = map_page_soup.select_one(floor_selector)\n",
    "            floor_text = floor_element.text.replace('/','').replace(building_name, '')\n",
    "            image_element = map_page_soup.select_one(map_image_selector)\n",
    "            image_uri = urllib.parse.urljoin(map_page_url, image_element['src'])\n",
    "            response = requests.get(image_uri, stream=True)\n",
    "            response_status_code = response.status_code\n",
    "            if response_status_code != 200:\n",
    "                e = Exception(\"HTTP status: \"+response_status_code)\n",
    "                raise e\n",
    "            response_content_type = response.headers[\"content-type\"]\n",
    "            if 'image' not in response_content_type:\n",
    "                e = Exception(\"Content-Type: \"+response_content_type)\n",
    "                raise e\n",
    "            image_ext = response_content_type.split('/')[1]\n",
    "            image = Image.open(BytesIO(response.content))\n",
    "            image_save_path = os.path.join(image_save_dir, tenant_id+'-'+building_name+'-'+floor_text+'.'+image_ext)\n",
    "            image.save(image_save_path)"
   ]
  },
  {
   "cell_type": "code",
   "execution_count": null,
   "metadata": {},
   "outputs": [],
   "source": []
  }
 ],
 "metadata": {
  "kernelspec": {
   "display_name": "Python 3",
   "language": "python",
   "name": "python3"
  },
  "language_info": {
   "codemirror_mode": {
    "name": "ipython",
    "version": 3
   },
   "file_extension": ".py",
   "mimetype": "text/x-python",
   "name": "python",
   "nbconvert_exporter": "python",
   "pygments_lexer": "ipython3",
   "version": "3.8.5"
  }
 },
 "nbformat": 4,
 "nbformat_minor": 4
}
